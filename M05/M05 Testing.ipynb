{
 "cells": [
  {
   "cell_type": "markdown",
   "id": "49264ffe-a6a8-4c90-95f7-daa820fe86e5",
   "metadata": {},
   "source": [
    "Checking the sum() of numbers 1, 2, and 3:"
   ]
  },
  {
   "cell_type": "code",
   "execution_count": 3,
   "id": "78d88b69-339e-40b4-a3fd-e5ba81df2b1b",
   "metadata": {},
   "outputs": [
    {
     "ename": "AssertionError",
     "evalue": "",
     "output_type": "error",
     "traceback": [
      "\u001b[1;31m---------------------------------------------------------------------------\u001b[0m",
      "\u001b[1;31mAssertionError\u001b[0m                            Traceback (most recent call last)",
      "Cell \u001b[1;32mIn[3], line 1\u001b[0m\n\u001b[1;32m----> 1\u001b[0m \u001b[38;5;28;01massert\u001b[39;00m \u001b[38;5;28msum\u001b[39m([\u001b[38;5;241m1\u001b[39m, \u001b[38;5;241m2\u001b[39m, \u001b[38;5;241m1\u001b[39m]) \u001b[38;5;241m==\u001b[39m \u001b[38;5;241m6\u001b[39m\n",
      "\u001b[1;31mAssertionError\u001b[0m: "
     ]
    }
   ],
   "source": [
    "assert sum([1, 2, 1]) == 6"
   ]
  },
  {
   "cell_type": "code",
   "execution_count": 4,
   "id": "637bd32d-d50f-4202-a9b7-5e7eafb3d893",
   "metadata": {},
   "outputs": [],
   "source": [
    "assert sum([1, 2, 3]) == 6"
   ]
  },
  {
   "cell_type": "markdown",
   "id": "135649e0-85fb-4383-9527-4debd2fd54d3",
   "metadata": {},
   "source": [
    "def test_sum():\r\n",
    "        assert ([1, 2, 3]), \"should be 6\"\r\n",
    "\r\n",
    "if __name__==\"__main__\":\r\n",
    "\ttest_sum()\r\n",
    "\tprint(\"Everything passed\")"
   ]
  },
  {
   "cell_type": "code",
   "execution_count": 5,
   "id": "b2910c83-7ecf-4685-9e0b-d485ccafb3a7",
   "metadata": {},
   "outputs": [
    {
     "name": "stderr",
     "output_type": "stream",
     "text": [
      "E\n",
      "======================================================================\n",
      "ERROR: C:\\Users\\saman\\AppData\\Roaming\\jupyter\\runtime\\kernel-f363100f-ef37-4f9d-bc8a-42b1bc43b74b (unittest.loader._FailedTest.C:\\Users\\saman\\AppData\\Roaming\\jupyter\\runtime\\kernel-f363100f-ef37-4f9d-bc8a-42b1bc43b74b)\n",
      "----------------------------------------------------------------------\n",
      "AttributeError: module '__main__' has no attribute 'C:\\Users\\saman\\AppData\\Roaming\\jupyter\\runtime\\kernel-f363100f-ef37-4f9d-bc8a-42b1bc43b74b'\n",
      "\n",
      "----------------------------------------------------------------------\n",
      "Ran 1 test in 0.013s\n",
      "\n",
      "FAILED (errors=1)\n"
     ]
    },
    {
     "ename": "SystemExit",
     "evalue": "1",
     "output_type": "error",
     "traceback": [
      "An exception has occurred, use %tb to see the full traceback.\n",
      "\u001b[1;31mSystemExit\u001b[0m\u001b[1;31m:\u001b[0m 1\n"
     ]
    },
    {
     "name": "stderr",
     "output_type": "stream",
     "text": [
      "C:\\Users\\saman\\AppData\\Local\\Programs\\Python\\Python312\\Lib\\site-packages\\IPython\\core\\interactiveshell.py:3561: UserWarning: To exit: use 'exit', 'quit', or Ctrl-D.\n",
      "  warn(\"To exit: use 'exit', 'quit', or Ctrl-D.\", stacklevel=1)\n"
     ]
    }
   ],
   "source": [
    "import unittest\n",
    "\n",
    "\n",
    "class TestSum(unittest.TestCase):\n",
    "\n",
    "    def test_sum(self):\n",
    "        self.assertEqual(sum([1, 2, 3]), 6, \"Should be 6\")\n",
    "\n",
    "    def test_sum_tuple(self):\n",
    "        self.assertEqual(sum((1, 2, 2)), 6, \"Should be 6\")\n",
    "\n",
    "if __name__ == '__main__':\n",
    "    unittest.main()"
   ]
  },
  {
   "cell_type": "code",
   "execution_count": 7,
   "id": "f3f3391e-701d-48cc-a92f-2191f24bccf5",
   "metadata": {},
   "outputs": [],
   "source": [
    "mkdir mysum"
   ]
  },
  {
   "cell_type": "code",
   "execution_count": 9,
   "id": "603fafab-8a30-4ed1-bd90-ee7d133d52ce",
   "metadata": {},
   "outputs": [],
   "source": [
    "#__init__.py\n",
    "\n",
    "def sum(arg):\n",
    "\ttotal = 0\n",
    "\tfor val in arg:\n",
    "\t\ttotal += val\n",
    "\treturn total"
   ]
  },
  {
   "cell_type": "markdown",
   "id": "91d3e011-5657-4f97-abb7-507b55119064",
   "metadata": {},
   "source": [
    "If application is single script"
   ]
  },
  {
   "cell_type": "code",
   "execution_count": 10,
   "id": "80e1c2e3-515b-4ec1-9e4c-4ac012f99c2c",
   "metadata": {},
   "outputs": [
    {
     "ename": "ModuleNotFoundError",
     "evalue": "No module named 'my_sum'",
     "output_type": "error",
     "traceback": [
      "\u001b[1;31m---------------------------------------------------------------------------\u001b[0m",
      "\u001b[1;31mModuleNotFoundError\u001b[0m                       Traceback (most recent call last)",
      "Cell \u001b[1;32mIn[10], line 1\u001b[0m\n\u001b[1;32m----> 1\u001b[0m target \u001b[38;5;241m=\u001b[39m \u001b[38;5;28;43m__import__\u001b[39;49m\u001b[43m(\u001b[49m\u001b[38;5;124;43m\"\u001b[39;49m\u001b[38;5;124;43mmy_sum.py\u001b[39;49m\u001b[38;5;124;43m\"\u001b[39;49m\u001b[43m)\u001b[49m\n\u001b[0;32m      2\u001b[0m \u001b[38;5;28msum\u001b[39m \u001b[38;5;241m=\u001b[39m target\u001b[38;5;241m.\u001b[39msum\n",
      "\u001b[1;31mModuleNotFoundError\u001b[0m: No module named 'my_sum'"
     ]
    }
   ],
   "source": [
    "target = __import__(\"my_sum.py\")\n",
    "sum = target.sum"
   ]
  },
  {
   "cell_type": "code",
   "execution_count": 11,
   "id": "18f7b7e5-43f9-4c3a-a7bc-d7d2726ed563",
   "metadata": {},
   "outputs": [
    {
     "ename": "SyntaxError",
     "evalue": "invalid syntax (57644718.py, line 1)",
     "output_type": "error",
     "traceback": [
      "\u001b[1;36m  Cell \u001b[1;32mIn[11], line 1\u001b[1;36m\u001b[0m\n\u001b[1;33m    $ python -m unittest discover -s tests -t src\u001b[0m\n\u001b[1;37m    ^\u001b[0m\n\u001b[1;31mSyntaxError\u001b[0m\u001b[1;31m:\u001b[0m invalid syntax\n"
     ]
    }
   ],
   "source": [
    "$ python -m unittest discover -s tests -t src"
   ]
  },
  {
   "cell_type": "code",
   "execution_count": null,
   "id": "20e16f3d-52b0-4504-864d-4fb5bf558810",
   "metadata": {},
   "outputs": [],
   "source": []
  }
 ],
 "metadata": {
  "kernelspec": {
   "display_name": "Python 3 (ipykernel)",
   "language": "python",
   "name": "python3"
  },
  "language_info": {
   "codemirror_mode": {
    "name": "ipython",
    "version": 3
   },
   "file_extension": ".py",
   "mimetype": "text/x-python",
   "name": "python",
   "nbconvert_exporter": "python",
   "pygments_lexer": "ipython3",
   "version": "3.12.1"
  }
 },
 "nbformat": 4,
 "nbformat_minor": 5
}
