{
 "cells": [
  {
   "cell_type": "markdown",
   "id": "146bff3f",
   "metadata": {},
   "source": [
    "4.1 Choose a number between 1 and 10 and assign it to the variable secret. Then, select another number between 1 and 10 and assign it to the variable guess. Next, write the conditional tests (if, else, and elif) to print the string 'too low' if guess is less than secret, 'too high' if greater than secret, and 'just right' if equal to secret."
   ]
  },
  {
   "cell_type": "code",
   "execution_count": 8,
   "id": "297c162a",
   "metadata": {},
   "outputs": [
    {
     "name": "stdout",
     "output_type": "stream",
     "text": [
      "Enter your guess: 3\n",
      "too low\n",
      "Enter your guess: 4\n",
      "just right\n"
     ]
    }
   ],
   "source": [
    "secret = 4\n",
    "\n",
    "while True:\n",
    "    guess = int(input(\"Enter your guess: \"))\n",
    "\n",
    "    if guess < secret:\n",
    "        print(\"too low\")\n",
    "    elif guess > secret:\n",
    "        print(\"too high\")\n",
    "    else:\n",
    "        print(\"just right\")\n",
    "        break"
   ]
  },
  {
   "cell_type": "markdown",
   "id": "643bc52c",
   "metadata": {},
   "source": [
    "4.2 Assign True or False to the variables small and green. Write some if/else statements to print which of these matches those choices: cherry, pea, watermelon, pumpkin."
   ]
  },
  {
   "cell_type": "code",
   "execution_count": 7,
   "id": "18ee3206",
   "metadata": {},
   "outputs": [
    {
     "name": "stdout",
     "output_type": "stream",
     "text": [
      "Fruit is not a watermelon.\n",
      "Fruit is not a watermelon.\n",
      "Fruit is a watermelon.\n",
      "Fruit is not a watermelon.\n"
     ]
    }
   ],
   "source": [
    "small = False\n",
    "green = True\n",
    "\n",
    "fruits = [\"cherry\", \"pea\", \"watermelon\", \"pumpkin\"]\n",
    "\n",
    "for fruit in fruits:\n",
    "    if small and not green:\n",
    "        if fruit == \"cherry\":\n",
    "            print(\"Fruit is a cherry.\")\n",
    "        else:\n",
    "            print(\"Fruit is not a cherry.\")\n",
    "    elif small and green:\n",
    "        if fruit == \"pea\":\n",
    "            print(\"Fruit is a pea.\")\n",
    "        else:\n",
    "            print(\"Fruit is not a pea.\")\n",
    "    elif fruit == \"watermelon\":  # Moved the condition for watermelon here\n",
    "        print(\"Fruit is a watermelon.\")\n",
    "    elif not small and green:\n",
    "        print(\"Fruit is not a watermelon.\")\n",
    "    else:\n",
    "        print(\"Fruit is a pumpkin.\")"
   ]
  },
  {
   "cell_type": "markdown",
   "id": "a583d2f2",
   "metadata": {},
   "source": [
    "6.1 Use a for loop to print the values of the list [3, 2, 1, 0]."
   ]
  },
  {
   "cell_type": "code",
   "execution_count": 11,
   "id": "d9584bed",
   "metadata": {},
   "outputs": [
    {
     "name": "stdout",
     "output_type": "stream",
     "text": [
      "3\n",
      "2\n",
      "1\n",
      "0\n"
     ]
    }
   ],
   "source": [
    "numList = [3, 2, 1, 0]\n",
    "\n",
    "for num in numList:\n",
    "    print(num)"
   ]
  },
  {
   "cell_type": "markdown",
   "id": "000eacd4",
   "metadata": {},
   "source": [
    "6.2 Assign the value 7 to the variable guess_me, and the value 1 to the variable number. Write a while loop that compares number with guess_me. Print 'too low' if number is less than guess me. If number equals guess_me, print 'found it!' and then exit the loop. If number is greater than guess_me, print 'oops' and then exit the loop. Increment number at the end of the loop."
   ]
  },
  {
   "cell_type": "code",
   "execution_count": 4,
   "id": "4ba06f59",
   "metadata": {},
   "outputs": [
    {
     "name": "stdout",
     "output_type": "stream",
     "text": [
      "too low\n",
      "too low\n",
      "too low\n",
      "too low\n",
      "too low\n",
      "too low\n",
      "Found it!\n"
     ]
    }
   ],
   "source": [
    "guess_me = 7\n",
    "number = 1\n",
    "\n",
    "while number != guess_me:\n",
    "    if number > guess_me:\n",
    "        print(\"too high\")\n",
    "    elif number < guess_me:\n",
    "        print(\"too low\")\n",
    "        \n",
    "    number += 1\n",
    "        \n",
    "    if number == guess_me:\n",
    "        print(\"Found it!\")\n",
    "        break\n"
   ]
  },
  {
   "cell_type": "markdown",
   "id": "8b4dc310",
   "metadata": {},
   "source": [
    "6.3 Assign the value 5 to the variable guess_me. Use a for loop to iterate a variable called number over range(10). If number is less than guess_me, print 'too low'. If it equals guess_me, print found it! and then break out of the for loop. If number is greater than guess_me, print 'oops' and then exit the loop. "
   ]
  },
  {
   "cell_type": "code",
   "execution_count": 2,
   "id": "978f333c",
   "metadata": {},
   "outputs": [
    {
     "name": "stdout",
     "output_type": "stream",
     "text": [
      "too low\n",
      "too low\n",
      "too low\n",
      "too low\n",
      "too low\n",
      "found it!\n"
     ]
    }
   ],
   "source": [
    "guess_me = 5\n",
    "\n",
    "for number in range(10):\n",
    "    if number < guess_me:\n",
    "        print(\"too low\")\n",
    "    elif number == guess_me:\n",
    "        print(\"found it!\")\n",
    "        break\n",
    "    else:\n",
    "        print(\"oops!\")\n",
    "        break"
   ]
  },
  {
   "cell_type": "code",
   "execution_count": null,
   "id": "cda7e576",
   "metadata": {},
   "outputs": [],
   "source": []
  }
 ],
 "metadata": {
  "kernelspec": {
   "display_name": "Python 3 (ipykernel)",
   "language": "python",
   "name": "python3"
  },
  "language_info": {
   "codemirror_mode": {
    "name": "ipython",
    "version": 3
   },
   "file_extension": ".py",
   "mimetype": "text/x-python",
   "name": "python",
   "nbconvert_exporter": "python",
   "pygments_lexer": "ipython3",
   "version": "3.12.0"
  }
 },
 "nbformat": 4,
 "nbformat_minor": 5
}
