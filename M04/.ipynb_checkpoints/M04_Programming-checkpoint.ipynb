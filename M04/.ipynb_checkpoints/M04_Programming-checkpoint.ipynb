{
 "cells": [
  {
   "cell_type": "markdown",
   "id": "b35a5136-612b-43a7-8b28-ddf2a452843f",
   "metadata": {},
   "source": [
    "11.1 Create a file called zoo.py. In it, define a function called hours() that prints the string 'Open 9-5 daily'. The, use the interactive interpreter to import zoo module and call its hours() function."
   ]
  },
  {
   "cell_type": "code",
   "execution_count": 2,
   "id": "63ae2c68-abe3-4661-b867-ee3b48e791d6",
   "metadata": {},
   "outputs": [],
   "source": [
    "\"\"\"\n",
    "Last modified on Wed Feb 21 13:09:04 2024\n",
    "zoo.py\n",
    "Author: Samantha Lopez\n",
    "prints string that says \"Open 9-5 daily\"\n",
    "\"\"\"\n",
    "\n",
    "def hours():\n",
    "    print(\"Open 9-5 daily\")"
   ]
  },
  {
   "cell_type": "code",
   "execution_count": 3,
   "id": "0cbb4c75-7d35-4871-836e-b8d44df0ea62",
   "metadata": {},
   "outputs": [
    {
     "name": "stdout",
     "output_type": "stream",
     "text": [
      "Open 9-5 daily\n"
     ]
    }
   ],
   "source": [
    "import zoo\n",
    "\n",
    "hours()"
   ]
  },
  {
   "cell_type": "markdown",
   "id": "cd1a076c-1a98-455d-9856-85e1c0e921b6",
   "metadata": {},
   "source": [
    "11.2 In the interactive interpreter, import the zoo module as menagerie ad call its hours() function."
   ]
  },
  {
   "cell_type": "code",
   "execution_count": 4,
   "id": "e551d017-4022-499e-a7af-2428ad0db5d2",
   "metadata": {},
   "outputs": [
    {
     "name": "stdout",
     "output_type": "stream",
     "text": [
      "Open 9-5 daily\n"
     ]
    }
   ],
   "source": [
    "import zoo as menagerie\n",
    "\n",
    "hours()"
   ]
  },
  {
   "cell_type": "markdown",
   "id": "57d61299-8b3b-40d0-8341-b2c7865c0720",
   "metadata": {},
   "source": [
    "16.8 Use the sqlalchemy module to connect to the sqlite3 database books.db that you just made in exercise 16.4. As in 16.6, select and print the title column from the book table in alphabetical order."
   ]
  },
  {
   "cell_type": "code",
   "execution_count": 1,
   "id": "a6c84715-57cf-4e72-be42-90aaeb293d1c",
   "metadata": {},
   "outputs": [
    {
     "name": "stdout",
     "output_type": "stream",
     "text": [
      "Requirement already satisfied: sqlalchemy in c:\\users\\saman\\appdata\\local\\programs\\python\\python312\\lib\\site-packages (2.0.27)\n",
      "Requirement already satisfied: typing-extensions>=4.6.0 in c:\\users\\saman\\appdata\\local\\programs\\python\\python312\\lib\\site-packages (from sqlalchemy) (4.9.0)\n",
      "Requirement already satisfied: greenlet!=0.4.17 in c:\\users\\saman\\appdata\\local\\programs\\python\\python312\\lib\\site-packages (from sqlalchemy) (3.0.3)\n"
     ]
    }
   ],
   "source": [
    "!pip install sqlalchemy"
   ]
  },
  {
   "cell_type": "code",
   "execution_count": 2,
   "id": "8a4337bd-69e2-4faf-8471-482bdfadc1c0",
   "metadata": {},
   "outputs": [],
   "source": [
    "import sqlalchemy as sa"
   ]
  },
  {
   "cell_type": "code",
   "execution_count": 4,
   "id": "eb54dedb-fa78-4283-8875-132055005971",
   "metadata": {},
   "outputs": [
    {
     "ename": "NameError",
     "evalue": "name 'connnection' is not defined",
     "output_type": "error",
     "traceback": [
      "\u001b[1;31m---------------------------------------------------------------------------\u001b[0m",
      "\u001b[1;31mNameError\u001b[0m                                 Traceback (most recent call last)",
      "Cell \u001b[1;32mIn[4], line 7\u001b[0m\n\u001b[0;32m      3\u001b[0m connection \u001b[38;5;241m=\u001b[39m engine\u001b[38;5;241m.\u001b[39mconnect()\n\u001b[0;32m      5\u001b[0m query \u001b[38;5;241m=\u001b[39m sa\u001b[38;5;241m.\u001b[39mtext(\u001b[38;5;124m\"\u001b[39m\u001b[38;5;124mSELECT title FROM books ORDER BY title ASC\u001b[39m\u001b[38;5;124m\"\u001b[39m)\n\u001b[1;32m----> 7\u001b[0m result \u001b[38;5;241m=\u001b[39m \u001b[43mconnnection\u001b[49m\u001b[38;5;241m.\u001b[39mexecute(query)\n\u001b[0;32m      8\u001b[0m \u001b[38;5;28;01mfor\u001b[39;00m row \u001b[38;5;129;01min\u001b[39;00m result:\n\u001b[0;32m      9\u001b[0m     \u001b[38;5;28mprint\u001b[39m(row[\u001b[38;5;124m'\u001b[39m\u001b[38;5;124mtitle\u001b[39m\u001b[38;5;124m'\u001b[39m])\n",
      "\u001b[1;31mNameError\u001b[0m: name 'connnection' is not defined"
     ]
    }
   ],
   "source": [
    "engine = sa.create_engine('sqlite:///books.db')\n",
    "\n",
    "connection = engine.connect()\n",
    "\n",
    "query = sa.text(\"SELECT title FROM books ORDER BY title ASC\")\n",
    "\n",
    "result = connnection.execute(query)\n",
    "for row in result:\n",
    "    print(row['title'])\n",
    "\n",
    "connection.close"
   ]
  },
  {
   "cell_type": "code",
   "execution_count": null,
   "id": "43d9416c-192f-4d73-ba76-2acec7152736",
   "metadata": {},
   "outputs": [],
   "source": [
    "ins = 'INSERT INTO books (title, author, year) VALUES (?, ?, ?)'"
   ]
  },
  {
   "cell_type": "code",
   "execution_count": 5,
   "id": "5d825b65-ac9c-448c-9393-1704579e5cae",
   "metadata": {},
   "outputs": [
    {
     "ename": "SyntaxError",
     "evalue": "unterminated string literal (detected at line 1) (1872864330.py, line 1)",
     "output_type": "error",
     "traceback": [
      "\u001b[1;36m  Cell \u001b[1;32mIn[5], line 1\u001b[1;36m\u001b[0m\n\u001b[1;33m    ins = 'INSERT INTO books (ins, “The Weirdstone of Brisingamen”, “Ala Garner”, 1960)\u001b[0m\n\u001b[1;37m          ^\u001b[0m\n\u001b[1;31mSyntaxError\u001b[0m\u001b[1;31m:\u001b[0m unterminated string literal (detected at line 1)\n"
     ]
    }
   ],
   "source": [
    "ins = 'INSERT INTO books (ins, “The Weirdstone of Brisingamen”, “Ala Garner”, 1960)\n",
    "ins = 'INSERT INTO books (ins, “Perdido Street Station”, “China Mieville”, 2000)\n",
    "ins = 'INSERT INTO books (ins, “Thud!”, “Terry Pratchett”, 2005)\n",
    "ins = 'INSERT INTO books (ins, “The Spellman Files”, “Lisa Lutz”, 2007)\n",
    "ins = 'INSERT INTO books (ins, “Small Gods”, “Terry Pratchett”, 1992)"
   ]
  },
  {
   "cell_type": "code",
   "execution_count": null,
   "id": "f2b4f7f2-5d73-44f0-8713-4229972e3740",
   "metadata": {},
   "outputs": [],
   "source": []
  }
 ],
 "metadata": {
  "kernelspec": {
   "display_name": "Python 3 (ipykernel)",
   "language": "python",
   "name": "python3"
  },
  "language_info": {
   "codemirror_mode": {
    "name": "ipython",
    "version": 3
   },
   "file_extension": ".py",
   "mimetype": "text/x-python",
   "name": "python",
   "nbconvert_exporter": "python",
   "pygments_lexer": "ipython3",
   "version": "3.12.1"
  }
 },
 "nbformat": 4,
 "nbformat_minor": 5
}
