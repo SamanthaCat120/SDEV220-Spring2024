{
 "cells": [
  {
   "cell_type": "markdown",
   "id": "b35a5136-612b-43a7-8b28-ddf2a452843f",
   "metadata": {},
   "source": [
    "11.1 Create a file called zoo.py. In it, define a function called hours() that prints the string 'Open 9-5 daily'. The, use the interactive interpreter to import zoo module and call its hours() function."
   ]
  },
  {
   "cell_type": "code",
   "execution_count": 27,
   "id": "63ae2c68-abe3-4661-b867-ee3b48e791d6",
   "metadata": {},
   "outputs": [],
   "source": [
    "\"\"\"\n",
    "Last modified on Wed Feb 21 13:09:04 2024\n",
    "zoo.py\n",
    "Author: Samantha Lopez\n",
    "prints string that says \"Open 9-5 daily\"\n",
    "\"\"\"\n",
    "\n",
    "def hours():\n",
    "    print(\"Open 9-5 daily\")"
   ]
  },
  {
   "cell_type": "code",
   "execution_count": 28,
   "id": "0cbb4c75-7d35-4871-836e-b8d44df0ea62",
   "metadata": {},
   "outputs": [
    {
     "name": "stdout",
     "output_type": "stream",
     "text": [
      "Open 9-5 daily\n"
     ]
    }
   ],
   "source": [
    "import zoo\n",
    "\n",
    "hours()"
   ]
  },
  {
   "cell_type": "markdown",
   "id": "cd1a076c-1a98-455d-9856-85e1c0e921b6",
   "metadata": {},
   "source": [
    "11.2 In the interactive interpreter, import the zoo module as menagerie ad call its hours() function."
   ]
  },
  {
   "cell_type": "code",
   "execution_count": 29,
   "id": "e551d017-4022-499e-a7af-2428ad0db5d2",
   "metadata": {},
   "outputs": [
    {
     "name": "stdout",
     "output_type": "stream",
     "text": [
      "Open 9-5 daily\n"
     ]
    }
   ],
   "source": [
    "import zoo as menagerie\n",
    "\n",
    "hours()"
   ]
  },
  {
   "cell_type": "code",
   "execution_count": 45,
   "id": "a26adff8-0c28-43aa-ab7f-7dcfefb10248",
   "metadata": {},
   "outputs": [
    {
     "name": "stdout",
     "output_type": "stream",
     "text": [
      "Echo: File 'books2.csv' has been created successfully.\n"
     ]
    }
   ],
   "source": [
    "import csv\n",
    "\n",
    "\n",
    "lines = [\n",
    "    \"title,author,year\\n\",\n",
    "    \"The Weirdstone of Brisingamen,Alan Garner,1960\\n\",\n",
    "    \"Perdido Street Station,China Miéville,2000\\n\",\n",
    "    \"Thud!,Terry Pratchett,2005\\n\",\n",
    "    \"The Spellman Files,Lisa Lutz,2007\\n\",\n",
    "    \"Small Gods,Terry Pratchett,1992\\n\"\n",
    "]\n",
    "\n",
    "with open('books2.csv', 'w', newline='', encoding='utf-8') as file:\n",
    "    file.writelines(lines)\n",
    "\n",
    "print(\"Echo: File 'books2.csv' has been created successfully.\")"
   ]
  },
  {
   "cell_type": "code",
   "execution_count": 51,
   "id": "d3893d1d-7abf-4250-b282-e95a2538103e",
   "metadata": {},
   "outputs": [
    {
     "name": "stdout",
     "output_type": "stream",
     "text": [
      "Table created successfully.\n"
     ]
    }
   ],
   "source": [
    "conn = sqlite3.connect('books.db')\n",
    "\n",
    "cur = conn.cursor()\n",
    "\n",
    "cur.execute('''CREATE TABLE IF NOT EXISTS books (\n",
    "               title VARCHAR(20),\n",
    "               author VARCHAR(20),\n",
    "               year INT\n",
    "               )''')\n",
    "\n",
    "conn.commit()\n",
    "conn.close()\n",
    "\n",
    "print(\"Table created successfully.\")"
   ]
  },
  {
   "cell_type": "code",
   "execution_count": 60,
   "id": "6a130f8d-0818-469b-82b3-7d4393e32b9c",
   "metadata": {},
   "outputs": [
    {
     "name": "stdout",
     "output_type": "stream",
     "text": [
      "('The Weirdstone of Brisingamen', 'Alan Garner', 1960)\n",
      "('Perdido Street Station', 'China Miéville', 2000)\n",
      "('Thud!', 'Terry Pratchett', 2005)\n",
      "('The Spellman Files', 'Lisa Lutz', 2007)\n",
      "('Small Gods', 'Terry Pratchett', 1992)\n"
     ]
    }
   ],
   "source": [
    "import csv\n",
    "import sqlite3\n",
    "\n",
    "conn = sqlite3.connect('books.db')\n",
    "\n",
    "cur = conn.cursor()\n",
    "\n",
    "with open('books2.csv', 'r', newline='', encoding='utf-8') as file:\n",
    "    csv_reader = csv.reader(file)\n",
    "    next(csv_reader, None)\n",
    "    for row in csv_reader:\n",
    "        title, author, year = row\n",
    "conn.commit()\n",
    "\n",
    "cur.execute(\"SELECT * FROM books\")\n",
    "rows = cur.fetchall()\n",
    "\n",
    "for row in rows:\n",
    "    print(row)\n",
    "\n",
    "conn.close()"
   ]
  },
  {
   "cell_type": "markdown",
   "id": "57d61299-8b3b-40d0-8341-b2c7865c0720",
   "metadata": {},
   "source": [
    "16.8 Use the sqlalchemy module to connect to the sqlite3 database books.db that you just made in exercise 16.4. As in 16.6, select and print the title column from the book table in alphabetical order."
   ]
  },
  {
   "cell_type": "code",
   "execution_count": 50,
   "id": "eb54dedb-fa78-4283-8875-132055005971",
   "metadata": {},
   "outputs": [
    {
     "name": "stdout",
     "output_type": "stream",
     "text": [
      "Perdido Street Station\n",
      "Small Gods\n",
      "The Spellman Files\n",
      "The Weirdstone of Brisingamen\n",
      "Thud!\n"
     ]
    }
   ],
   "source": [
    "from sqlalchemy import create_engine, MetaData, Table as sa\n",
    "from sqlalchemy.orm import sessionmaker as sm\n",
    "\n",
    "db_url = 'sqlite:///books.db'\n",
    "\n",
    "engine = create_engine(db_url)\n",
    "\n",
    "Session = sm(bind=engine)\n",
    "\n",
    "session = Session()\n",
    "\n",
    "metadata = MetaData()\n",
    "metadata.reflect(bind=engine)\n",
    "\n",
    "book_table = metadata.tables['books']\n",
    "query = session.query(book_table.c.title).order_by(book_table.c.title.asc())\n",
    "\n",
    "titles = query.all()\n",
    "for title in titles:\n",
    "    print(title[0]) \n",
    "\n",
    "session.close()"
   ]
  },
  {
   "cell_type": "markdown",
   "id": "f433c321-db24-47fb-9ccc-1e71ee50133c",
   "metadata": {},
   "source": [
    "Bug Report: Okay. So, looking over what I wrote in class, the first thing that stood out to me was I was missing a cursor to execute the sql. So, I decided to go back and do 68.1 and 68.2 separately. I also messed up initially by putting the for row in rows (I was trying to create an echo) after where I closed the connection. I definitely don't have this from memory yet."
   ]
  }
 ],
 "metadata": {
  "kernelspec": {
   "display_name": "Python 3 (ipykernel)",
   "language": "python",
   "name": "python3"
  },
  "language_info": {
   "codemirror_mode": {
    "name": "ipython",
    "version": 3
   },
   "file_extension": ".py",
   "mimetype": "text/x-python",
   "name": "python",
   "nbconvert_exporter": "python",
   "pygments_lexer": "ipython3",
   "version": "3.12.1"
  }
 },
 "nbformat": 4,
 "nbformat_minor": 5
}
