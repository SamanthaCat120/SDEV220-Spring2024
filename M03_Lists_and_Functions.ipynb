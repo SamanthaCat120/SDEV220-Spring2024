{
 "cells": [
  {
   "cell_type": "markdown",
   "id": "655821ec-f3d3-4545-a152-6012a372a4fc",
   "metadata": {},
   "source": [
    "7.4 Make a list called things with these three strings as elements: \"mozzarella\", \"cinderella\", \"salmonella\"."
   ]
  },
  {
   "cell_type": "code",
   "execution_count": null,
   "id": "2e109208-19d2-45bf-bb2b-952a24533b24",
   "metadata": {},
   "outputs": [],
   "source": [
    "things = ['mozzarella', 'cinderella', 'salmonella']"
   ]
  },
  {
   "cell_type": "markdown",
   "id": "d14d8fe7-abd5-49e2-a1a1-480fbdc0eaee",
   "metadata": {},
   "source": [
    "7.5 Capitalize the element in things that refers to a person and then print the list. Did it change the element in the list?\r\n",
    "\r\n",
    "no. The list is unchanged. I could change the element in the list by doing something like this:
   ]
  },
  {
   "cell_type": "code",
   "execution_count": 8,
   "id": "bdb71a60-0222-4a97-978c-b4ded0d5f595",
   "metadata": {},
   "outputs": [
    {
     "name": "stdout",
     "output_type": "stream",
     "text": [
      "['mozzarella', 'Cinderella', 'salmonella']\n"
     ]
    }
   ],
   "source": [
    "things = ['mozzarella', 'cinderella', 'salmonella']\n",
    "\n",
    "things[1] = things[1].capitalize() \n",
    "print(things)"
   ]
  },
  {
   "cell_type": "code",
   "execution_count": 2,
   "id": "0389039a-582b-480e-ba5a-3d0abd43b0a3",
   "metadata": {},
   "outputs": [
    {
     "name": "stdout",
     "output_type": "stream",
     "text": [
      "Cinderella\n",
      "['mozzarella', 'cinderella', 'salmonella']\n"
     ]
    }
   ],
   "source": [
    "things = ['mozzarella', 'cinderella', 'salmonella']\n",
    "\n",
    "if 'cinderella' in things:\n",
    "    capitalized_cinderella = 'cinderella'.capitalize()\n",
    "    print(capitalized_cinderella)\n",
    "    print(things)"
   ]
  },
  {
   "cell_type": "markdown",
   "id": "db5c2e07-868b-4fea-a6cc-e7908db2f577",
   "metadata": {},
   "source": [
    "7.6 Make the cheesy element of things all uppercase and then print the list."
   ]
  },
  {
   "cell_type": "code",
   "execution_count": 3,
   "id": "2de5c626-e8f7-4e06-a90d-5b2f1c7001da",
   "metadata": {},
   "outputs": [
    {
     "name": "stdout",
     "output_type": "stream",
     "text": [
      "MOZZARELLA\n",
      "['mozzarella', 'cinderella', 'salmonella']\n"
     ]
    }
   ],
   "source": [
    "things = ['mozzarella', 'cinderella', 'salmonella']\n",
    "\n",
    "if 'mozzarella' in things:\n",
    "    upper_mozzarella = 'mozzarella'.upper()\n",
    "    print(upper_mozzarella)\n",
    "    print(things)"
   ]
  },
  {
   "cell_type": "markdown",
   "id": "c16b22eb-5653-4a39-b9a3-ddf75a5b4063",
   "metadata": {},
   "source": [
    "7.7 Delete the disease element from things, collect your Nobel Prize, and print the list."
   ]
  },
  {
   "cell_type": "code",
   "execution_count": 4,
   "id": "cb44b2f4-e2ad-4d3a-a896-e433ff7ef75f",
   "metadata": {},
   "outputs": [
    {
     "name": "stdout",
     "output_type": "stream",
     "text": [
      "['mozzarella', 'cinderella']\n"
     ]
    }
   ],
   "source": [
    "if 'salmonella' in things:\n",
    "    things.remove('salmonella')\n",
    "    print(things)"
   ]
  },
  {
   "cell_type": "markdown",
   "id": "0a78a3b4-bd55-47a5-9e36-228d915be451",
   "metadata": {},
   "source": [
    "9.1 Define a function called good() that returns the following list: ['Harry', 'Ron', 'Hermione']."
   ]
  },
  {
   "cell_type": "code",
   "execution_count": 7,
   "id": "af710741-0e86-4015-bf88-affb6fad54a8",
   "metadata": {},
   "outputs": [
    {
     "name": "stdout",
     "output_type": "stream",
     "text": [
      "['Harry', 'Ron', 'Hermione']\n"
     ]
    }
   ],
   "source": [
    "kids = ['Harry', 'Ron', 'Hermione']\n",
    "\n",
    "def good():\n",
    "    print(kids)\n",
    "\n",
    "if __name__ == \"__main__\":\n",
    "    good()"
   ]
  },
  {
   "cell_type": "markdown",
   "id": "8e123042-8d8d-4be4-9a35-25b1005dd072",
   "metadata": {},
   "source": [
    "9.2 Define a generator function called get_odds() that returns the odd numbers from range(10). Use a for loop to find and print the third value returned."
   ]
  },
  {
   "cell_type": "code",
   "execution_count": 9,
   "id": "36cfcd05-4741-4677-bfe0-b547b0dcbb9c",
   "metadata": {},
   "outputs": [
    {
     "name": "stdout",
     "output_type": "stream",
     "text": [
      "[1, 3, 5, 7, 9]\n",
      "The third number is 5\n"
     ]
    }
   ],
   "source": [
    "\"\"\"\n",
    "getOdd.py\n",
    "\n",
    "Define a generator function called get_odds() that returns the odd numbers\n",
    "from range(10). Then, uses a for loop to get every 3rd number in list.\n",
    "\n",
    "by Samantha Lopez 02/05/2024\n",
    "\"\"\"\n",
    "\n",
    "\n",
    "def get_odds():\n",
    "    oddNums = []\n",
    "    for x in range(10):\n",
    "        if x % 2 != 0:\n",
    "            oddNums.append(x)\n",
    "    print(oddNums)\n",
    "    return oddNums\n",
    "\n",
    "\n",
    "if __name__ == '__main__':\n",
    "\n",
    "    # Call the get_odds() function\n",
    "    numbers = get_odds()\n",
    "\n",
    "    # Prints 3rd numbers in list\n",
    "    for i in range(2, len(numbers), 3):\n",
    "        print(f'The third number is {numbers[i]}')\n",
    "    "
   ]
  },
  {
   "cell_type": "code",
   "execution_count": null,
   "id": "8778acc7-5499-42d4-ba8e-8391eb0e3f2e",
   "metadata": {},
   "outputs": [],
   "source": []
  }
 ],
 "metadata": {
  "kernelspec": {
   "display_name": "Python 3 (ipykernel)",
   "language": "python",
   "name": "python3"
  },
  "language_info": {
   "codemirror_mode": {
    "name": "ipython",
    "version": 3
   },
   "file_extension": ".py",
   "mimetype": "text/x-python",
   "name": "python",
   "nbconvert_exporter": "python",
   "pygments_lexer": "ipython3",
   "version": "3.12.1"
  }
 },
 "nbformat": 4,
 "nbformat_minor": 5
}
