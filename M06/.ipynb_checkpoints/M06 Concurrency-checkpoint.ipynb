{
 "cells": [
  {
   "cell_type": "markdown",
   "id": "fb27422c-8b82-4778-934f-5018c75dca6a",
   "metadata": {},
   "source": [
    "13.1 Write the current date as a string to the text file today.txt."
   ]
  },
  {
   "cell_type": "code",
   "execution_count": null,
   "id": "d8e297e0-4899-4fb9-a330-aea423ca464f",
   "metadata": {},
   "outputs": [],
   "source": [
    "from datetime import date, datetime\n",
    "now = date.today()\n",
    "now_str = now.isoformat()\n",
    "fmt = \"It's %A, %B, %d, %Y.\"\n",
    "with open('today.txt', 'wt') as outfile:\n",
    "    outfile.write(now.strftime(fmt))"
   ]
  },
  {
   "cell_type": "markdown",
   "id": "3fe4dae9-5d59-4266-b37d-f5f563a98aa0",
   "metadata": {},
   "source": [
    "13.2 Read the text file today.txt into the string today_string."
   ]
  },
  {
   "cell_type": "code",
   "execution_count": null,
   "id": "ece87266-d257-49d2-b497-18d6b29bbe00",
   "metadata": {},
   "outputs": [],
   "source": [
    "with open('today.txt', 'rt') as input:\n",
    "    today_string = input.read()\n",
    "\n",
    "today_string"
   ]
  },
  {
   "cell_type": "markdown",
   "id": "d51086dd-d5da-4545-b1e3-eb8f953ee2f4",
   "metadata": {},
   "source": [
    "13.3 Parse the date from today_string."
   ]
  },
  {
   "cell_type": "code",
   "execution_count": null,
   "id": "9252f297-fe8e-43e9-b9b4-0fd91c8978f6",
   "metadata": {},
   "outputs": [],
   "source": [
    "from datetime import datetime\n",
    "from datetime import date\n",
    "\n",
    "now2 = date.today()\n",
    "now_str = now2.isoformat()\n",
    "\n",
    "with open('today2.txt', 'wt') as output:\n",
    "    print(now_str, file=output)\n",
    "\n",
    "with open('today2.txt', 'rt') as input:\n",
    "    today_string2 = input.read()\n",
    "fmt = '%Y-%m-%d\\n'\n",
    "today_string2\n",
    "\n",
    "datetime.strptime(today_string2, fmt)\n"
   ]
  },
  {
   "cell_type": "markdown",
   "id": "7d2f22e2-d8c4-4827-88e1-d3a644821cbc",
   "metadata": {},
   "source": [
    "15.1 Use multiprocessing to create three separate processes. Make each one wait a random number of seconds between zero and one, print the current time, and then exit."
   ]
  },
  {
   "cell_type": "code",
   "execution_count": 18,
   "id": "610faad4-f027-4c3a-8943-f052d11b4849",
   "metadata": {},
   "outputs": [
    {
     "name": "stdout",
     "output_type": "stream",
     "text": [
      "wait 0.924040559705871 seconds, time is 2024-03-04T20:08:20.696267\n"
     ]
    }
   ],
   "source": [
    "import multiprocessing\n",
    "import random\n",
    "from datetime import datetime\n",
    "from time import sleep\n",
    "\n",
    "\n",
    "\n",
    "def now(seconds):\n",
    "    sleep(seconds)\n",
    "    current_time = datetime.now()\n",
    "    print('wait', seconds, 'seconds, time is', current_time.isoformat())\n",
    "\n",
    "def ransec():\n",
    "    processes = []\n",
    "    for n in range(3):\n",
    "        seconds = random.random()\n",
    "        proc = multiprocessing.Process(target=now, args=(seconds,))\n",
    "        proc.start()\n",
    "        processes.append(proc)\n",
    "\n",
    "    for proc in processes:\n",
    "        proc.join()\n",
    " #       print(processes)\n",
    "\n",
    "\n",
    "if __name__ == '__main__':\n",
    "    seconds = random.random()\n",
    "    ransec()\n",
    "    now(seconds)\n",
    "\n",
    "#copy and paste into Spyder or Sublime and it works."
   ]
  },
  {
   "cell_type": "code",
   "execution_count": null,
   "id": "4200dd84-d284-4807-a036-8988876151c0",
   "metadata": {},
   "outputs": [],
   "source": []
  }
 ],
 "metadata": {
  "kernelspec": {
   "display_name": "Python 3 (ipykernel)",
   "language": "python",
   "name": "python3"
  },
  "language_info": {
   "codemirror_mode": {
    "name": "ipython",
    "version": 3
   },
   "file_extension": ".py",
   "mimetype": "text/x-python",
   "name": "python",
   "nbconvert_exporter": "python",
   "pygments_lexer": "ipython3",
   "version": "3.12.1"
  }
 },
 "nbformat": 4,
 "nbformat_minor": 5
}
