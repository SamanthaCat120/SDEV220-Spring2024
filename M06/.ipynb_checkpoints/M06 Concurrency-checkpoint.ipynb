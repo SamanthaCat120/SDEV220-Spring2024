{
 "cells": [
  {
   "cell_type": "markdown",
   "id": "fb27422c-8b82-4778-934f-5018c75dca6a",
   "metadata": {},
   "source": [
    "13.1 Write the current date as a string to the text file today.txt."
   ]
  },
  {
   "cell_type": "code",
   "execution_count": 10,
   "id": "d8e297e0-4899-4fb9-a330-aea423ca464f",
   "metadata": {},
   "outputs": [],
   "source": [
    "from datetime import date, datetime\n",
    "now = date.today()\n",
    "now_str = now.isoformat()\n",
    "fmt = \"It's %A, %B, %d, %Y.\"\n",
    "with open('today.txt', 'wt') as outfile:\n",
    "    outfile.write(now.strftime(fmt))"
   ]
  },
  {
   "cell_type": "markdown",
   "id": "3fe4dae9-5d59-4266-b37d-f5f563a98aa0",
   "metadata": {},
   "source": [
    "13.2 Read the text file today.txt into the string today_string."
   ]
  },
  {
   "cell_type": "code",
   "execution_count": 9,
   "id": "ece87266-d257-49d2-b497-18d6b29bbe00",
   "metadata": {},
   "outputs": [
    {
     "data": {
      "text/plain": [
       "\"It's Monday, March, 04, 2024.\""
      ]
     },
     "execution_count": 9,
     "metadata": {},
     "output_type": "execute_result"
    }
   ],
   "source": [
    "with open('today.txt', 'rt') as input:\n",
    "    today_string = input.read()\n",
    "\n",
    "today_string"
   ]
  },
  {
   "cell_type": "markdown",
   "id": "d51086dd-d5da-4545-b1e3-eb8f953ee2f4",
   "metadata": {},
   "source": [
    "13.3 Parse the date from today_string."
   ]
  },
  {
   "cell_type": "code",
   "execution_count": 23,
   "id": "9252f297-fe8e-43e9-b9b4-0fd91c8978f6",
   "metadata": {},
   "outputs": [
    {
     "data": {
      "text/plain": [
       "datetime.datetime(2024, 3, 4, 0, 0)"
      ]
     },
     "execution_count": 23,
     "metadata": {},
     "output_type": "execute_result"
    }
   ],
   "source": [
    "from datetime import datetime\n",
    "from datetime import date\n",
    "\n",
    "now2 = date.today()\n",
    "now_str = now2.isoformat()\n",
    "\n",
    "with open('today2.txt', 'wt') as output:\n",
    "    print(now_str, file=output)\n",
    "\n",
    "with open('today2.txt', 'rt') as input:\n",
    "    today_string2 = input.read()\n",
    "fmt = '%Y-%m-%d\\n'\n",
    "today_string2\n",
    "\n",
    "datetime.strptime(today_string2, fmt)\n"
   ]
  },
  {
   "cell_type": "markdown",
   "id": "7d2f22e2-d8c4-4827-88e1-d3a644821cbc",
   "metadata": {},
   "source": [
    "15.1 Use multiprocessing to create three separate processes. Make each one wait a random number of seconds between zero and one, print the current time, and then exit."
   ]
  },
  {
   "cell_type": "code",
   "execution_count": 5,
   "id": "610faad4-f027-4c3a-8943-f052d11b4849",
   "metadata": {},
   "outputs": [
    {
     "ename": "NameError",
     "evalue": "name 'timezone' is not defined",
     "output_type": "error",
     "traceback": [
      "\u001b[1;31m---------------------------------------------------------------------------\u001b[0m",
      "\u001b[1;31mNameError\u001b[0m                                 Traceback (most recent call last)",
      "Cell \u001b[1;32mIn[5], line 25\u001b[0m\n\u001b[0;32m     23\u001b[0m \u001b[38;5;28;01mif\u001b[39;00m \u001b[38;5;18m__name__\u001b[39m \u001b[38;5;241m==\u001b[39m \u001b[38;5;124m'\u001b[39m\u001b[38;5;124m__main__\u001b[39m\u001b[38;5;124m'\u001b[39m:\n\u001b[0;32m     24\u001b[0m     seconds \u001b[38;5;241m=\u001b[39m random\u001b[38;5;241m.\u001b[39mrandom()\n\u001b[1;32m---> 25\u001b[0m     \u001b[43mnow\u001b[49m\u001b[43m(\u001b[49m\u001b[43mseconds\u001b[49m\u001b[43m)\u001b[49m\n",
      "Cell \u001b[1;32mIn[2], line 20\u001b[0m, in \u001b[0;36mnow\u001b[1;34m(seconds)\u001b[0m\n\u001b[0;32m     18\u001b[0m \u001b[38;5;28;01mdef\u001b[39;00m \u001b[38;5;21mnow\u001b[39m(seconds):\n\u001b[0;32m     19\u001b[0m     sleep(seconds)\n\u001b[1;32m---> 20\u001b[0m     current_time \u001b[38;5;241m=\u001b[39m datetime\u001b[38;5;241m.\u001b[39mnow(\u001b[43mtimezone\u001b[49m\u001b[38;5;241m.\u001b[39mutc)\n\u001b[0;32m     21\u001b[0m     \u001b[38;5;28mprint\u001b[39m(\u001b[38;5;124m'\u001b[39m\u001b[38;5;124mwait\u001b[39m\u001b[38;5;124m'\u001b[39m, seconds, \u001b[38;5;124m'\u001b[39m\u001b[38;5;124mseconds, time is\u001b[39m\u001b[38;5;124m'\u001b[39m, current_time)\n",
      "\u001b[1;31mNameError\u001b[0m: name 'timezone' is not defined"
     ]
    }
   ],
   "source": [
    "import multiprocessing\n",
    "import random\n",
    "from datetime import datetime\n",
    "from time import sleep\n",
    "\n",
    "def ransec():\n",
    "    processes = []\n",
    "    for n in range(3):\n",
    "        seconds = random.random()\n",
    "        proc = multiprocessing.Process(target=now, args=(seconds,))\n",
    "        proc.start()\n",
    "        processes.append(proc)\n",
    "\n",
    "    for proc in processes:\n",
    "        proc.join()\n",
    "    return processes\n",
    "\n",
    "    def now(seconds):\n",
    "        sleep(seconds)\n",
    "        current_time = datetime.now()\n",
    "        print('wait', seconds, 'seconds, time is', current_time.isoformat())\n",
    "\n",
    "if __name__ == '__main__':\n",
    "    seconds = random.random()\n",
    "    now(seconds)"
   ]
  },
  {
   "cell_type": "markdown",
   "id": "3e0423be-961f-421d-9a19-26a208876967",
   "metadata": {},
   "source": [
    "Bug Report: In 13.3, first put a single quote at the beginning and a double-quote at the end. Received error SyntaxError: unterminated string literal (detected at line 1) in 13.3, then ran into all sorts of formatting errors:\n",
    "---------------------------------------------------------------------------\r\n",
    "ValueError                                Traceback (most recent call last)\r\n",
    "Cell In[16], line 6\r\n",
    "      4     today_string = file.read().strip()\r\n",
    "      5 fmt = \"It's %A %B-%d-%Y.\"\r\n",
    "----> 6 parsed_date = datetime.strptime(today_string, fmt)\r\n",
    "      7 print(parsed_date)\r\n",
    "\r\n",
    "File ~\\AppData\\Local\\Programs\\Python\\Python312\\Lib\\_strptime.py:555, in _strptime_datetime(cls, data_string, format)\r\n",
    "    552 def _strptime_datetime(cls, data_string, format=\"%a %b %d %H:%M:%S %Y\"):\r\n",
    "    553     \"\"\"Return a class cls instance based on the input string and the\r\n",
    "    554     format string.\"\"\"\r\n",
    "--> 555     tt, fraction, gmtoff_fraction = _strptime(data_string, format)\r\n",
    "    556     tzname, gmtoff = tt[-2:]\r\n",
    "    557     args = tt[:6] + (fraction,)\r\n",
    "\r\n",
    "File ~\\AppData\\Local\\Programs\\Python\\Python312\\Lib\\_strptime.py:333, in _strptime(data_string, format)\r\n",
    "    331 found = format_regex.match(data_string)\r\n",
    "    332 if not found:\r\n",
    "--> 333     raise ValueError(\"time data %r does not match format %r\" %\r\n",
    "    334                      (data_string, format))\r\n",
    "    335 if len(data_string) != found.end():\r\n",
    "    336     raise ValueError(\"unconverted data remains: %s\" %\r\n",
    "    337                       data_string[found.end():])\r\n",
    "\r\n",
    "ValueError: time data \"It's Monday, March, 04, 2024.\" does not match f\n",
    "\n",
    "Finally, went back and re-did a second today.text file, because I liked the way I wrote the first one.\n",
    "\n",
    "for 15.1, I got a lot of errors. I then ended up getting a result such as <Process name='Process-25' pid=23108 parent=23876 stopped exitcode=1>\r",
    "which looks more like the result of when we create an object, like, it's listing what it's doing, but not showing the results. ormat \"It's %A %B-%d-%Y.\"\r\n"
   ]
  },
  {
   "cell_type": "code",
   "execution_count": null,
   "id": "11a6b8d7-5d77-4aec-b7df-9988bfb89a76",
   "metadata": {},
   "outputs": [],
   "source": []
  }
 ],
 "metadata": {
  "kernelspec": {
   "display_name": "Python 3 (ipykernel)",
   "language": "python",
   "name": "python3"
  },
  "language_info": {
   "codemirror_mode": {
    "name": "ipython",
    "version": 3
   },
   "file_extension": ".py",
   "mimetype": "text/x-python",
   "name": "python",
   "nbconvert_exporter": "python",
   "pygments_lexer": "ipython3",
   "version": "3.12.1"
  }
 },
 "nbformat": 4,
 "nbformat_minor": 5
}
